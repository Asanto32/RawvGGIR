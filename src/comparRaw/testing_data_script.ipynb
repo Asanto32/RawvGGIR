{
 "cells": [
  {
   "cell_type": "code",
   "execution_count": 3,
   "metadata": {},
   "outputs": [
    {
     "ename": "ModuleNotFoundError",
     "evalue": "No module named 'pygt3x.reader'",
     "output_type": "error",
     "traceback": [
      "\u001b[0;31m---------------------------------------------------------------------------\u001b[0m",
      "\u001b[0;31mModuleNotFoundError\u001b[0m                       Traceback (most recent call last)",
      "\u001b[1;32m/Users/adam.santorelli/lib/RawvGGIR/src/comparRaw/testing_data_script.ipynb Cell 1\u001b[0m line \u001b[0;36m1\n\u001b[1;32m     <a href='vscode-notebook-cell:/Users/adam.santorelli/lib/RawvGGIR/src/comparRaw/testing_data_script.ipynb#W0sZmlsZQ%3D%3D?line=12'>13</a>\u001b[0m \u001b[39mimport\u001b[39;00m \u001b[39mpandas\u001b[39;00m \u001b[39mas\u001b[39;00m \u001b[39mpd\u001b[39;00m\n\u001b[1;32m     <a href='vscode-notebook-cell:/Users/adam.santorelli/lib/RawvGGIR/src/comparRaw/testing_data_script.ipynb#W0sZmlsZQ%3D%3D?line=13'>14</a>\u001b[0m \u001b[39mimport\u001b[39;00m \u001b[39mpygt3x\u001b[39;00m\n\u001b[0;32m---> <a href='vscode-notebook-cell:/Users/adam.santorelli/lib/RawvGGIR/src/comparRaw/testing_data_script.ipynb#W0sZmlsZQ%3D%3D?line=14'>15</a>\u001b[0m \u001b[39mfrom\u001b[39;00m \u001b[39mpygt3x\u001b[39;00m\u001b[39m.\u001b[39;00m\u001b[39mreader\u001b[39;00m \u001b[39mimport\u001b[39;00m FileReader\n\u001b[1;32m     <a href='vscode-notebook-cell:/Users/adam.santorelli/lib/RawvGGIR/src/comparRaw/testing_data_script.ipynb#W0sZmlsZQ%3D%3D?line=15'>16</a>\u001b[0m \u001b[39mfrom\u001b[39;00m \u001b[39mtyping\u001b[39;00m \u001b[39mimport\u001b[39;00m Any\n\u001b[1;32m     <a href='vscode-notebook-cell:/Users/adam.santorelli/lib/RawvGGIR/src/comparRaw/testing_data_script.ipynb#W0sZmlsZQ%3D%3D?line=16'>17</a>\u001b[0m \u001b[39mimport\u001b[39;00m \u001b[39mpydantic\u001b[39;00m\n",
      "\u001b[0;31mModuleNotFoundError\u001b[0m: No module named 'pygt3x.reader'"
     ]
    }
   ],
   "source": [
    "\"\"\"\n",
    "how to checkout pygt3x module for non-local run?\n",
    "pip install gitpython\n",
    "import git\n",
    "from git import Repo  # pip install gitpython\n",
    "\n",
    "Repo.clone_from(\"https://github.com/actigraph/pygt3x.git\", working_dir)\"\"\"\n",
    "\n",
    "import calendar\n",
    "from datetime import datetime, timedelta\n",
    "import os\n",
    "import numpy as np\n",
    "import pandas as pd\n",
    "import sys\n",
    "sys.path.append('/Users/adam.santorelli/lib/pygt3x/')\n",
    "import pygt3x\n",
    "from pygt3x.reader import FileReader\n",
    "from typing import Any\n",
    "import pydantic\n",
    "import rdata\n",
    "from matplotlib import pyplot as plt\n",
    "import plotly.express as px\n",
    "import plotly.graph_objects as go\n",
    "from plotly.subplots import make_subplots\n"
   ]
  },
  {
   "cell_type": "code",
   "execution_count": null,
   "metadata": {},
   "outputs": [],
   "source": [
    "#user defined path to .gt3x data\n",
    "#currently assumes only one file\n",
    "\n",
    "data_dir = \"/Users/adam.santorelli/Documents/\"\n",
    "for file in os.listdir(data_dir):\n",
    "    if file.endswith(\".gt3x\"):\n",
    "                file_name = os.path.join(data_dir, file)\n",
    "file_name"
   ]
  },
  {
   "cell_type": "code",
   "execution_count": null,
   "metadata": {},
   "outputs": [],
   "source": [
    "with FileReader(file_name) as reader:\n",
    "    df = reader.to_pandas()"
   ]
  },
  {
   "cell_type": "code",
   "execution_count": null,
   "metadata": {},
   "outputs": [],
   "source": [
    "timestamps = df.index.to_numpy()\n",
    "time_fix = []\n",
    "for i in range(len(timestamps)):\n",
    "    tmp = (timestamps[0] + ((i)/30))*1000\n",
    "    time_fix.append(tmp)\n",
    "\n",
    "\n"
   ]
  },
  {
   "cell_type": "code",
   "execution_count": null,
   "metadata": {},
   "outputs": [],
   "source": [
    "\n",
    "time_fix_test = np.asarray(time_fix, dtype='datetime64[ms]')\n",
    "del(time_fix)"
   ]
  },
  {
   "cell_type": "code",
   "execution_count": null,
   "metadata": {},
   "outputs": [],
   "source": [
    "ENMO_calc = np.asarray(np.sqrt(np.square(df).sum(axis =1))-1)\n",
    "angle_z_raw = np.asarray(np.arctan(df.Z / (np.sqrt( np.square(df.X) + np.square(df.Y)))) / (np.pi/180))\n",
    "data_raw = {'time': time_fix_test, 'ENMO': ENMO_calc, 'angle_z': angle_z_raw}\n",
    "\n",
    "df_raw = pd.DataFrame(data_raw)\n",
    "del(data_raw, ENMO_calc, timestamps, time_fix_test, angle_z_raw, df)\n"
   ]
  },
  {
   "cell_type": "code",
   "execution_count": null,
   "metadata": {},
   "outputs": [],
   "source": [
    "#get day and month values\n",
    "df_raw['month'] = df_raw['time'].dt.month\n",
    "df_raw['day'] = df_raw['time'].dt.day\n"
   ]
  },
  {
   "cell_type": "code",
   "execution_count": null,
   "metadata": {},
   "outputs": [],
   "source": [
    "# get day idx relative to jan 1 ...issue if the participant has data across calendar year...\n",
    "day_idx = []\n",
    "for k in range(len(df_raw)):\n",
    "    tmp = datetime.strptime(str(df_raw['time'][k])[0:10], '%Y-%m-%d')\n",
    "    tmp = tmp.timetuple().tm_yday\n",
    "    day_idx.append(tmp)\n",
    "\n",
    "df_raw['day_idx'] = day_idx"
   ]
  },
  {
   "cell_type": "code",
   "execution_count": null,
   "metadata": {},
   "outputs": [],
   "source": [
    "#number of unique days\n",
    "days_raw = pd.unique(df_raw.day_idx)\n",
    "\n"
   ]
  },
  {
   "cell_type": "code",
   "execution_count": null,
   "metadata": {},
   "outputs": [],
   "source": [
    "#plotting plans, request number of days to compare across initial compare for raw data\n",
    "\"\"\"day1 = df_raw['day_idx'][0]\n",
    "num_days = 2\n",
    "\n",
    "\n",
    "fig = make_subplots(rows = num_days, cols= 1)\n",
    "fig2 = make_subplots(rows = num_days, cols= 1)\n",
    "for k in range(num_days):\n",
    "    tmp = df_raw[df_raw['day_idx'] == (day1+k)]\n",
    "    fig.add_trace (go.Scatter(x=tmp['time'], y = tmp['ENMO']), row=k+1, col=1)\n",
    "    fig2.add_trace (go.Scatter(x=tmp['time'], y = tmp['angle_z']), row=k+1, col=1)\n",
    "fig.show()\n",
    "fig2.show()\"\"\""
   ]
  },
  {
   "cell_type": "code",
   "execution_count": null,
   "metadata": {},
   "outputs": [],
   "source": [
    "# switch to R data\n",
    "# assumes GGIR output in /meta/basic/ ... can prompt for output dir from user\n",
    "\n",
    "ggir_output_dir =  data_dir + \"/output_NDARZN578YDP/meta/basic/\"\n",
    "for file in os.listdir(ggir_output_dir):\n",
    "    if file.endswith(\".RData\"):\n",
    "                Rdata_file_name = os.path.join(data_dir, ggir_output_dir, file)\n",
    "Rdata_file_name"
   ]
  },
  {
   "cell_type": "code",
   "execution_count": null,
   "metadata": {},
   "outputs": [],
   "source": [
    "# load GGIR ouptut R data and convert to df\n",
    "\n",
    "R_data = rdata.parser.parse_file(Rdata_file_name)\n",
    "R_data_conv = rdata.conversion.convert(R_data) "
   ]
  },
  {
   "cell_type": "code",
   "execution_count": null,
   "metadata": {},
   "outputs": [],
   "source": [
    "#grab key metrics computed by GGIR\n",
    "ENMO_R_data = R_data_conv['M']['metashort']['ENMO']\n",
    "z_angle_R_data = R_data_conv['M']['metashort']['anglez']\n",
    "time_R = R_data_conv['M']['metashort']['timestamp']\n",
    "\n",
    "#strip out tz info to match raw ...issues with changing tz...\n",
    "time_R = time_R.str[:-5]"
   ]
  },
  {
   "cell_type": "code",
   "execution_count": null,
   "metadata": {},
   "outputs": [],
   "source": [
    "dti = pd.to_datetime(time_R)\n",
    "data_R = {'time': dti, 'ENMO': ENMO_R_data, 'anglez':z_angle_R_data}\n",
    "df_R = pd.DataFrame(data_R)\n",
    "df_R['month'] = df_R['time'].dt.month\n",
    "df_R['day'] = df_R['time'].dt.day\n",
    "\n",
    "\n",
    "del(data_R, time_R, ENMO_R_data, z_angle_R_data, R_data, dti)"
   ]
  },
  {
   "cell_type": "code",
   "execution_count": null,
   "metadata": {},
   "outputs": [],
   "source": [
    "#get day idx as with raw\n",
    "day_idx_R = []\n",
    "for k in range(len(df_R)):\n",
    "    tmp = datetime.strptime(str(df_R['time'][k+1])[0:10], '%Y-%m-%d')\n",
    "    tmp = tmp.timetuple().tm_yday\n",
    "    day_idx_R.append(tmp)\n",
    "\n",
    "df_R['day_idx'] = day_idx_R"
   ]
  },
  {
   "cell_type": "code",
   "execution_count": null,
   "metadata": {},
   "outputs": [],
   "source": [
    "#plotting plans, request number of days to compare across\n",
    "\n",
    "\n",
    "#usr defined number of days\n",
    "num_days = 3\n",
    "\n",
    "#usr defined start date\n",
    "start_date = 3\n",
    "\n",
    "#indexing is unique for reasons...\n",
    "day1_raw = df_raw['day_idx'][0]\n",
    "day1_R = df_R['day_idx'][1]\n",
    "\n",
    "day_start_raw = start_date + day1_raw\n",
    "day_start_R = start_date + day1_R"
   ]
  },
  {
   "cell_type": "code",
   "execution_count": null,
   "metadata": {},
   "outputs": [],
   "source": [
    "\n",
    "#each day will be a separate row\n",
    "fig = make_subplots(rows = num_days, cols= 1)\n",
    "fig2 = make_subplots(rows = num_days, cols= 1)\n",
    "\n",
    "#pass subplot title as for i in range(num_days): title_days[i] = 'day' + str(num_days(k))?? \n",
    "\n",
    "for k in range(num_days):\n",
    "    tmp_raw = df_raw[df_raw['day_idx'] == (day_start_raw+k)]\n",
    "    tmp_r = df_R[df_R['day_idx'] == (day_start_R+k)]\n",
    "\n",
    "    fig.add_trace (go.Scatter(x=tmp_raw['time'], y = tmp_raw['ENMO'], name = \"Raw\"), row=k+1, col=1)\n",
    "    fig.add_trace (go.Scatter(x=tmp_r['time'], y = tmp_r['ENMO'], name = \"GGIR output\"), row=k+1, col=1)\n",
    "\n",
    "    fig2.add_trace (go.Scatter(x=tmp_raw['time'], y = tmp_raw['angle_z'], name = \"Raw\"), row=k+1, col=1)\n",
    "    fig2.add_trace (go.Scatter(x=tmp_r['time'], y = tmp_r['anglez'], name = \"GGIR output\"), row=k+1, col=1)\n",
    "\n",
    "\n",
    "fig.update_layout(title=\"ENMO Raw vs GGIR\", yaxis_title = 'ENMO')\n",
    "fig2.update_layout(title = \"Angle z Raw vs GGIR\", yaxis_title = \"Angle Z\")"
   ]
  },
  {
   "cell_type": "code",
   "execution_count": 22,
   "metadata": {},
   "outputs": [],
   "source": [
    "fig.write_html(data_dir + str(num_days) + \"days_enmo_compare.html\")\n",
    "fig2.write_html(data_dir + str(num_days) + \"days_angle_z_compare.html\")"
   ]
  },
  {
   "cell_type": "code",
   "execution_count": null,
   "metadata": {},
   "outputs": [],
   "source": [
    "fig.show()\n",
    "fig2.show()"
   ]
  }
 ],
 "metadata": {
  "kernelspec": {
   "display_name": "Python 3",
   "language": "python",
   "name": "python3"
  },
  "language_info": {
   "codemirror_mode": {
    "name": "ipython",
    "version": 3
   },
   "file_extension": ".py",
   "mimetype": "text/x-python",
   "name": "python",
   "nbconvert_exporter": "python",
   "pygments_lexer": "ipython3",
   "version": "3.11.5"
  }
 },
 "nbformat": 4,
 "nbformat_minor": 2
}
